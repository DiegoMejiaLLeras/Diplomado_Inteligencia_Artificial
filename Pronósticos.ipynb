{
  "nbformat": 4,
  "nbformat_minor": 0,
  "metadata": {
    "colab": {
      "name": "Pronósticos.ipynb",
      "provenance": []
    },
    "kernelspec": {
      "name": "python3",
      "display_name": "Python 3"
    },
    "language_info": {
      "name": "python"
    }
  },
  "cells": [
    {
      "cell_type": "markdown",
      "metadata": {
        "id": "GKh7d1wbQptG"
      },
      "source": [
        "# Boston Housing"
      ]
    },
    {
      "cell_type": "code",
      "metadata": {
        "id": "_roGUNV6LKkF"
      },
      "source": [
        "import numpy as np \n",
        "import pandas as pd \n",
        "import sklearn\n",
        "import matplotlib.pyplot as plt\n",
        "from keras.models import Sequential\n",
        "from keras.layers import Dense, Dropout\n",
        "from sklearn.preprocessing import MinMaxScaler        \n",
        "from sklearn.metrics import r2_score\n"
      ],
      "execution_count": 42,
      "outputs": []
    },
    {
      "cell_type": "code",
      "metadata": {
        "id": "6QRWiQLALShk"
      },
      "source": [
        "from keras.datasets import boston_housing\n",
        "\n",
        "(train_data, train_targets), (test_data, test_targets) = boston_housing.load_data()"
      ],
      "execution_count": 43,
      "outputs": []
    },
    {
      "cell_type": "code",
      "metadata": {
        "colab": {
          "base_uri": "https://localhost:8080/"
        },
        "id": "9Rpav_uuLxEJ",
        "outputId": "f291b015-7678-4f94-82f3-6cb7fcc74380"
      },
      "source": [
        "print(f'Training data : {train_data.shape}')\n",
        "print(f'Test data : {test_data.shape}')\n"
      ],
      "execution_count": 44,
      "outputs": [
        {
          "output_type": "stream",
          "text": [
            "Training data : (404, 13)\n",
            "Test data : (102, 13)\n"
          ],
          "name": "stdout"
        }
      ]
    },
    {
      "cell_type": "code",
      "metadata": {
        "id": "U_55zfCVSOjH"
      },
      "source": [
        "mean = train_data.mean(axis=0)\n",
        "train_data -= mean\n",
        "std = train_data.std(axis=0)\n",
        "train_data /= std\n",
        "\n",
        "mean = test_data.mean(axis=0)\n",
        "test_data -= mean\n",
        "std = test_data.std(axis=0)\n",
        "test_data /= std"
      ],
      "execution_count": 62,
      "outputs": []
    },
    {
      "cell_type": "code",
      "metadata": {
        "colab": {
          "base_uri": "https://localhost:8080/"
        },
        "id": "Ialult77Ngcc",
        "outputId": "8a983db6-ee57-48bb-e845-ef5888077d32"
      },
      "source": [
        "model = Sequential()\n",
        "model.add(Dense(units = 256, input_dim=scaled.shape[1], activation='relu'))\n",
        "model.add(Dropout(0.2))\n",
        "model.add(Dense(units = 128, activation='relu'))\n",
        "model.add(Dropout(0.2))\n",
        "model.add(Dense(units = 56, activation='relu'))\n",
        "model.add(Dropout(0.2))  \n",
        "model.add(Dense(units = 28, activation='relu'))\n",
        "model.add(Dropout(0.2))        \n",
        "model.add(Dense(units = 1))\n",
        "        \n",
        "\n",
        "model.compile(loss='mse', optimizer='adam', metrics=['mse'])\n",
        "model.summary()\n",
        "        \n",
        "history = model.fit(train_data, train_targets, epochs=500, batch_size=32, verbose = 0,  validation_split=0.20)        "
      ],
      "execution_count": 73,
      "outputs": [
        {
          "output_type": "stream",
          "text": [
            "Model: \"sequential_9\"\n",
            "_________________________________________________________________\n",
            "Layer (type)                 Output Shape              Param #   \n",
            "=================================================================\n",
            "dense_43 (Dense)             (None, 256)               3584      \n",
            "_________________________________________________________________\n",
            "dropout_34 (Dropout)         (None, 256)               0         \n",
            "_________________________________________________________________\n",
            "dense_44 (Dense)             (None, 128)               32896     \n",
            "_________________________________________________________________\n",
            "dropout_35 (Dropout)         (None, 128)               0         \n",
            "_________________________________________________________________\n",
            "dense_45 (Dense)             (None, 56)                7224      \n",
            "_________________________________________________________________\n",
            "dropout_36 (Dropout)         (None, 56)                0         \n",
            "_________________________________________________________________\n",
            "dense_46 (Dense)             (None, 28)                1596      \n",
            "_________________________________________________________________\n",
            "dropout_37 (Dropout)         (None, 28)                0         \n",
            "_________________________________________________________________\n",
            "dense_47 (Dense)             (None, 1)                 29        \n",
            "=================================================================\n",
            "Total params: 45,329\n",
            "Trainable params: 45,329\n",
            "Non-trainable params: 0\n",
            "_________________________________________________________________\n"
          ],
          "name": "stdout"
        }
      ]
    },
    {
      "cell_type": "code",
      "metadata": {
        "colab": {
          "base_uri": "https://localhost:8080/"
        },
        "id": "9aQ9yllhO9Pf",
        "outputId": "e3910fda-aee0-4cf3-965a-95acbca5d78a"
      },
      "source": [
        "history_dict = history.history\n",
        "print(history_dict.keys())"
      ],
      "execution_count": 75,
      "outputs": [
        {
          "output_type": "stream",
          "text": [
            "dict_keys(['loss', 'mse', 'val_loss', 'val_mse'])\n"
          ],
          "name": "stdout"
        }
      ]
    },
    {
      "cell_type": "code",
      "metadata": {
        "colab": {
          "base_uri": "https://localhost:8080/",
          "height": 637
        },
        "id": "ejyG_K0AO2GP",
        "outputId": "0c9c6897-6591-4ba0-fa31-6fa87adcd986"
      },
      "source": [
        "plt.plot(history.history['mse'])\n",
        "plt.plot(history.history['val_mse'])\n",
        "plt.title('model mse')\n",
        "plt.ylabel('mse')\n",
        "plt.xlabel('epoch')\n",
        "plt.legend(['train', 'validation'], loc='upper left')\n",
        "plt.savefig('destination_path.eps', format='eps', dpi=1000)\n",
        "plt.show()\n",
        "# summarize history for loss\n",
        "plt.plot(history.history['loss'])\n",
        "plt.plot(history.history['val_loss'])\n",
        "plt.title('model loss')\n",
        "plt.ylabel('loss')\n",
        "plt.xlabel('epoch')\n",
        "plt.legend(['train', 'validation'], loc='upper left')\n",
        "plt.savefig('destination_path1.eps', format='eps', dpi=1000)\n",
        "plt.show()"
      ],
      "execution_count": 76,
      "outputs": [
        {
          "output_type": "stream",
          "text": [
            "The PostScript backend does not support transparency; partially transparent artists will be rendered opaque.\n",
            "The PostScript backend does not support transparency; partially transparent artists will be rendered opaque.\n"
          ],
          "name": "stderr"
        },
        {
          "output_type": "display_data",
          "data": {
            "image/png": "[encoded data removed]",
            "text/plain": [
              "<Figure size 432x288 with 1 Axes>"
            ]
          },
          "metadata": {
            "tags": [],
            "needs_background": "light"
          }
        },
        {
          "output_type": "stream",
          "text": [
            "The PostScript backend does not support transparency; partially transparent artists will be rendered opaque.\n",
            "The PostScript backend does not support transparency; partially transparent artists will be rendered opaque.\n"
          ],
          "name": "stderr"
        },
        {
          "output_type": "display_data",
          "data": {
            "image/png": "[encoded data removed]",
            "text/plain": [
              "<Figure size 432x288 with 1 Axes>"
            ]
          },
          "metadata": {
            "tags": [],
            "needs_background": "light"
          }
        }
      ]
    },
    {
      "cell_type": "code",
      "metadata": {
        "colab": {
          "base_uri": "https://localhost:8080/"
        },
        "id": "cGDdb4ObOyRv",
        "outputId": "058a9889-7255-4936-9da8-6a659bdd1b0c"
      },
      "source": [
        "test_mse_score, test_mae_score = model.evaluate(test_data, test_targets)"
      ],
      "execution_count": 77,
      "outputs": [
        {
          "output_type": "stream",
          "text": [
            "4/4 [==============================] - 0s 3ms/step - loss: 12.9333 - mse: 12.9333\n"
          ],
          "name": "stdout"
        }
      ]
    },
    {
      "cell_type": "code",
      "metadata": {
        "colab": {
          "base_uri": "https://localhost:8080/"
        },
        "id": "lf-brYAkPoqG",
        "outputId": "d2da93e3-c8db-4623-f644-ff01a97ff624"
      },
      "source": [
        "pred = model.predict(test_data)\n",
        "r2 = r2_score(test_targets, pred)\n",
        "\n",
        "        \n",
        "print(); print('Evaluation of the trained model: ')\n",
        "print(); print('R2 Score : ', r2)"
      ],
      "execution_count": 78,
      "outputs": [
        {
          "output_type": "stream",
          "text": [
            "\n",
            "Evaluation of the trained model: \n",
            "\n",
            "R2 Score :  0.8446334324203618\n"
          ],
          "name": "stdout"
        }
      ]
    },
    {
      "cell_type": "markdown",
      "metadata": {
        "id": "shGuEdEzVBsa"
      },
      "source": [
        "# Breast Cancer Wisconsin"
      ]
    },
    {
      "cell_type": "code",
      "metadata": {
        "id": "K95H-qlFVA5E"
      },
      "source": [
        "df = pd.read_csv('https://archive.ics.uci.edu/ml/machine-learning-databases/breast-cancer-wisconsin/breast-cancer-wisconsin.data')"
      ],
      "execution_count": 124,
      "outputs": []
    },
    {
      "cell_type": "code",
      "metadata": {
        "id": "Ht05j6GEW7nQ"
      },
      "source": [
        "import numpy as np\n",
        "import pandas as pd"
      ],
      "execution_count": 125,
      "outputs": []
    },
    {
      "cell_type": "code",
      "metadata": {
        "id": "wSwSekmZXCxH"
      },
      "source": [
        "df.columns = ['id','clump_thickness','unif_cell_size','unif_cell_shape','marg_adhesion','single_epith_size','bare_nuclei','bland_chrom','norm_nucleoli','mitoses','class']"
      ],
      "execution_count": 126,
      "outputs": []
    },
    {
      "cell_type": "code",
      "metadata": {
        "id": "E5f2KN1gXFwC"
      },
      "source": [
        "df.drop(['id'], inplace=True, axis=1)"
      ],
      "execution_count": 127,
      "outputs": []
    },
    {
      "cell_type": "code",
      "metadata": {
        "id": "gQvPnxGFXaVg"
      },
      "source": [
        "df.replace('?', -99999, inplace=True)"
      ],
      "execution_count": 128,
      "outputs": []
    },
    {
      "cell_type": "code",
      "metadata": {
        "id": "wgcnfmVpap5N"
      },
      "source": [
        "y = np.array(df['class'])"
      ],
      "execution_count": 129,
      "outputs": []
    },
    {
      "cell_type": "code",
      "metadata": {
        "id": "yMcoi4eMal8m"
      },
      "source": [
        "from sklearn.preprocessing import LabelEncoder\n",
        "encoder = LabelEncoder()\n",
        "encoder.fit(y)\n",
        "encoded_Y = encoder.transform(y)"
      ],
      "execution_count": 130,
      "outputs": []
    },
    {
      "cell_type": "code",
      "metadata": {
        "id": "-BgQogMZXPFh"
      },
      "source": [
        "X = np.array(df.drop(['class'], axis=1))\n"
      ],
      "execution_count": 131,
      "outputs": []
    },
    {
      "cell_type": "code",
      "metadata": {
        "id": "mzNsvBGOXR0a"
      },
      "source": [
        "scaler = preprocessing.MinMaxScaler()"
      ],
      "execution_count": 132,
      "outputs": []
    },
    {
      "cell_type": "code",
      "metadata": {
        "id": "jWZE33QOXUv4"
      },
      "source": [
        "X = scaler.fit_transform(X)"
      ],
      "execution_count": 133,
      "outputs": []
    },
    {
      "cell_type": "code",
      "metadata": {
        "id": "EuFT2SYbXg2X"
      },
      "source": [
        " X_train, X_test, y_train, y_test = train_test_split(X, encoded_Y, test_size=0.2, random_state=1)"
      ],
      "execution_count": 137,
      "outputs": []
    },
    {
      "cell_type": "code",
      "metadata": {
        "id": "bYdvTnxeX7BJ"
      },
      "source": [
        "import keras\n",
        "from keras.models import Sequential\n",
        "from keras.layers import Dense, Dropout, Flatten, Activation\n",
        "import tensorflow as tf"
      ],
      "execution_count": 138,
      "outputs": []
    },
    {
      "cell_type": "code",
      "metadata": {
        "id": "lVUzpkP0YBPg"
      },
      "source": [
        "model = Sequential()\n",
        "model.add(Dense(units = 64, input_dim=X_train.shape[1], activation='relu'))\n",
        "model.add(Dropout(0.2))\n",
        "model.add(Dense(units = 32, activation='relu'))\n",
        "model.add(Dropout(0.2))\n",
        "model.add(Dense(units = 16, activation='relu'))\n",
        "model.add(Dropout(0.2))      \n",
        "model.add(Dense(units = 1,  activation='sigmoid'))"
      ],
      "execution_count": 155,
      "outputs": []
    },
    {
      "cell_type": "code",
      "metadata": {
        "id": "UyBdzP-jYFCK"
      },
      "source": [
        "model.compile( optimizer='adam', loss='binary_crossentropy',  metrics=['accuracy'])"
      ],
      "execution_count": 156,
      "outputs": []
    },
    {
      "cell_type": "code",
      "metadata": {
        "colab": {
          "base_uri": "https://localhost:8080/"
        },
        "id": "bNzA3wvxYeLw",
        "outputId": "01502e7e-eafb-4315-96be-97efd2613bea"
      },
      "source": [
        "history=model.fit(X_train, y_train, batch_size=30, epochs=200, verbose=1, validation_split=0.20)"
      ],
      "execution_count": 157,
      "outputs": [
        {
          "output_type": "stream",
          "text": [
            "Epoch 1/200\n",
            "15/15 [==============================] - 1s 17ms/step - loss: 0.6806 - accuracy: 0.6658 - val_loss: 0.6457 - val_accuracy: 0.7500\n",
            "Epoch 2/200\n",
            "15/15 [==============================] - 0s 6ms/step - loss: 0.6393 - accuracy: 0.7477 - val_loss: 0.5798 - val_accuracy: 0.9018\n",
            "Epoch 3/200\n",
            "15/15 [==============================] - 0s 5ms/step - loss: 0.5808 - accuracy: 0.8499 - val_loss: 0.4814 - val_accuracy: 0.9732\n",
            "Epoch 4/200\n",
            "15/15 [==============================] - 0s 6ms/step - loss: 0.4813 - accuracy: 0.8837 - val_loss: 0.3433 - val_accuracy: 0.9732\n",
            "Epoch 5/200\n",
            "15/15 [==============================] - 0s 6ms/step - loss: 0.3589 - accuracy: 0.9231 - val_loss: 0.1964 - val_accuracy: 0.9821\n",
            "Epoch 6/200\n",
            "15/15 [==============================] - 0s 6ms/step - loss: 0.2782 - accuracy: 0.9165 - val_loss: 0.1095 - val_accuracy: 0.9821\n",
            "Epoch 7/200\n",
            "15/15 [==============================] - 0s 6ms/step - loss: 0.1815 - accuracy: 0.9454 - val_loss: 0.0789 - val_accuracy: 0.9821\n",
            "Epoch 8/200\n",
            "15/15 [==============================] - 0s 6ms/step - loss: 0.2265 - accuracy: 0.9272 - val_loss: 0.0598 - val_accuracy: 0.9821\n",
            "Epoch 9/200\n",
            "15/15 [==============================] - 0s 7ms/step - loss: 0.1593 - accuracy: 0.9459 - val_loss: 0.0664 - val_accuracy: 0.9821\n",
            "Epoch 10/200\n",
            "15/15 [==============================] - 0s 5ms/step - loss: 0.1583 - accuracy: 0.9415 - val_loss: 0.0601 - val_accuracy: 0.9821\n",
            "Epoch 11/200\n",
            "15/15 [==============================] - 0s 5ms/step - loss: 0.1737 - accuracy: 0.9386 - val_loss: 0.0532 - val_accuracy: 0.9821\n",
            "Epoch 12/200\n",
            "15/15 [==============================] - 0s 6ms/step - loss: 0.1925 - accuracy: 0.9296 - val_loss: 0.0665 - val_accuracy: 0.9821\n",
            "Epoch 13/200\n",
            "15/15 [==============================] - 0s 5ms/step - loss: 0.1691 - accuracy: 0.9358 - val_loss: 0.0551 - val_accuracy: 0.9821\n",
            "Epoch 14/200\n",
            "15/15 [==============================] - 0s 6ms/step - loss: 0.2052 - accuracy: 0.9255 - val_loss: 0.0628 - val_accuracy: 0.9821\n",
            "Epoch 15/200\n",
            "15/15 [==============================] - 0s 5ms/step - loss: 0.1480 - accuracy: 0.9514 - val_loss: 0.0489 - val_accuracy: 0.9821\n",
            "Epoch 16/200\n",
            "15/15 [==============================] - 0s 6ms/step - loss: 0.1215 - accuracy: 0.9494 - val_loss: 0.0488 - val_accuracy: 0.9821\n",
            "Epoch 17/200\n",
            "15/15 [==============================] - 0s 6ms/step - loss: 0.1861 - accuracy: 0.9460 - val_loss: 0.0510 - val_accuracy: 0.9821\n",
            "Epoch 18/200\n",
            "15/15 [==============================] - 0s 7ms/step - loss: 0.1173 - accuracy: 0.9616 - val_loss: 0.0533 - val_accuracy: 0.9821\n",
            "Epoch 19/200\n",
            "15/15 [==============================] - 0s 6ms/step - loss: 0.1426 - accuracy: 0.9438 - val_loss: 0.0527 - val_accuracy: 0.9821\n",
            "Epoch 20/200\n",
            "15/15 [==============================] - 0s 7ms/step - loss: 0.1416 - accuracy: 0.9549 - val_loss: 0.0526 - val_accuracy: 0.9821\n",
            "Epoch 21/200\n",
            "15/15 [==============================] - 0s 5ms/step - loss: 0.1522 - accuracy: 0.9434 - val_loss: 0.0525 - val_accuracy: 0.9821\n",
            "Epoch 22/200\n",
            "15/15 [==============================] - 0s 6ms/step - loss: 0.1096 - accuracy: 0.9702 - val_loss: 0.0494 - val_accuracy: 0.9821\n",
            "Epoch 23/200\n",
            "15/15 [==============================] - 0s 6ms/step - loss: 0.1384 - accuracy: 0.9587 - val_loss: 0.0578 - val_accuracy: 0.9821\n",
            "Epoch 24/200\n",
            "15/15 [==============================] - 0s 6ms/step - loss: 0.1446 - accuracy: 0.9533 - val_loss: 0.0436 - val_accuracy: 0.9821\n",
            "Epoch 25/200\n",
            "15/15 [==============================] - 0s 5ms/step - loss: 0.1359 - accuracy: 0.9581 - val_loss: 0.0506 - val_accuracy: 0.9821\n",
            "Epoch 26/200\n",
            "15/15 [==============================] - 0s 6ms/step - loss: 0.1381 - accuracy: 0.9520 - val_loss: 0.0549 - val_accuracy: 0.9821\n",
            "Epoch 27/200\n",
            "15/15 [==============================] - 0s 5ms/step - loss: 0.1365 - accuracy: 0.9466 - val_loss: 0.0487 - val_accuracy: 0.9821\n",
            "Epoch 28/200\n",
            "15/15 [==============================] - 0s 6ms/step - loss: 0.1008 - accuracy: 0.9668 - val_loss: 0.0382 - val_accuracy: 1.0000\n",
            "Epoch 29/200\n",
            "15/15 [==============================] - 0s 5ms/step - loss: 0.1138 - accuracy: 0.9603 - val_loss: 0.0454 - val_accuracy: 0.9821\n",
            "Epoch 30/200\n",
            "15/15 [==============================] - 0s 6ms/step - loss: 0.1546 - accuracy: 0.9462 - val_loss: 0.0531 - val_accuracy: 0.9821\n",
            "Epoch 31/200\n",
            "15/15 [==============================] - 0s 6ms/step - loss: 0.1005 - accuracy: 0.9683 - val_loss: 0.0502 - val_accuracy: 0.9821\n",
            "Epoch 32/200\n",
            "15/15 [==============================] - 0s 6ms/step - loss: 0.1346 - accuracy: 0.9706 - val_loss: 0.0453 - val_accuracy: 0.9821\n",
            "Epoch 33/200\n",
            "15/15 [==============================] - 0s 6ms/step - loss: 0.1321 - accuracy: 0.9609 - val_loss: 0.0428 - val_accuracy: 0.9821\n",
            "Epoch 34/200\n",
            "15/15 [==============================] - 0s 6ms/step - loss: 0.1132 - accuracy: 0.9656 - val_loss: 0.0426 - val_accuracy: 0.9821\n",
            "Epoch 35/200\n",
            "15/15 [==============================] - 0s 7ms/step - loss: 0.1083 - accuracy: 0.9630 - val_loss: 0.0521 - val_accuracy: 0.9821\n",
            "Epoch 36/200\n",
            "15/15 [==============================] - 0s 5ms/step - loss: 0.1564 - accuracy: 0.9549 - val_loss: 0.0536 - val_accuracy: 0.9821\n",
            "Epoch 37/200\n",
            "15/15 [==============================] - 0s 5ms/step - loss: 0.1207 - accuracy: 0.9620 - val_loss: 0.0558 - val_accuracy: 0.9821\n",
            "Epoch 38/200\n",
            "15/15 [==============================] - 0s 6ms/step - loss: 0.1393 - accuracy: 0.9527 - val_loss: 0.0474 - val_accuracy: 0.9821\n",
            "Epoch 39/200\n",
            "15/15 [==============================] - 0s 7ms/step - loss: 0.1320 - accuracy: 0.9472 - val_loss: 0.0431 - val_accuracy: 0.9821\n",
            "Epoch 40/200\n",
            "15/15 [==============================] - 0s 6ms/step - loss: 0.1173 - accuracy: 0.9644 - val_loss: 0.0441 - val_accuracy: 0.9821\n",
            "Epoch 41/200\n",
            "15/15 [==============================] - 0s 6ms/step - loss: 0.1639 - accuracy: 0.9505 - val_loss: 0.0523 - val_accuracy: 0.9821\n",
            "Epoch 42/200\n",
            "15/15 [==============================] - 0s 7ms/step - loss: 0.1066 - accuracy: 0.9714 - val_loss: 0.0461 - val_accuracy: 0.9821\n",
            "Epoch 43/200\n",
            "15/15 [==============================] - 0s 6ms/step - loss: 0.1203 - accuracy: 0.9566 - val_loss: 0.0523 - val_accuracy: 0.9821\n",
            "Epoch 44/200\n",
            "15/15 [==============================] - 0s 6ms/step - loss: 0.1155 - accuracy: 0.9512 - val_loss: 0.0534 - val_accuracy: 0.9821\n",
            "Epoch 45/200\n",
            "15/15 [==============================] - 0s 6ms/step - loss: 0.1550 - accuracy: 0.9572 - val_loss: 0.0389 - val_accuracy: 0.9821\n",
            "Epoch 46/200\n",
            "15/15 [==============================] - 0s 6ms/step - loss: 0.1029 - accuracy: 0.9721 - val_loss: 0.0443 - val_accuracy: 0.9821\n",
            "Epoch 47/200\n",
            "15/15 [==============================] - 0s 6ms/step - loss: 0.1320 - accuracy: 0.9546 - val_loss: 0.0533 - val_accuracy: 0.9821\n",
            "Epoch 48/200\n",
            "15/15 [==============================] - 0s 6ms/step - loss: 0.1052 - accuracy: 0.9716 - val_loss: 0.0416 - val_accuracy: 0.9821\n",
            "Epoch 49/200\n",
            "15/15 [==============================] - 0s 6ms/step - loss: 0.0926 - accuracy: 0.9663 - val_loss: 0.0537 - val_accuracy: 0.9821\n",
            "Epoch 50/200\n",
            "15/15 [==============================] - 0s 6ms/step - loss: 0.1171 - accuracy: 0.9618 - val_loss: 0.0522 - val_accuracy: 0.9821\n",
            "Epoch 51/200\n",
            "15/15 [==============================] - 0s 6ms/step - loss: 0.1254 - accuracy: 0.9567 - val_loss: 0.0525 - val_accuracy: 0.9821\n",
            "Epoch 52/200\n",
            "15/15 [==============================] - 0s 6ms/step - loss: 0.1279 - accuracy: 0.9617 - val_loss: 0.0507 - val_accuracy: 0.9821\n",
            "Epoch 53/200\n",
            "15/15 [==============================] - 0s 7ms/step - loss: 0.1157 - accuracy: 0.9620 - val_loss: 0.0417 - val_accuracy: 0.9821\n",
            "Epoch 54/200\n",
            "15/15 [==============================] - 0s 7ms/step - loss: 0.0963 - accuracy: 0.9718 - val_loss: 0.0590 - val_accuracy: 0.9821\n",
            "Epoch 55/200\n",
            "15/15 [==============================] - 0s 6ms/step - loss: 0.1172 - accuracy: 0.9624 - val_loss: 0.0406 - val_accuracy: 0.9821\n",
            "Epoch 56/200\n",
            "15/15 [==============================] - 0s 5ms/step - loss: 0.1145 - accuracy: 0.9681 - val_loss: 0.0488 - val_accuracy: 0.9821\n",
            "Epoch 57/200\n",
            "15/15 [==============================] - 0s 6ms/step - loss: 0.1153 - accuracy: 0.9613 - val_loss: 0.0431 - val_accuracy: 0.9821\n",
            "Epoch 58/200\n",
            "15/15 [==============================] - 0s 6ms/step - loss: 0.1211 - accuracy: 0.9595 - val_loss: 0.0492 - val_accuracy: 0.9821\n",
            "Epoch 59/200\n",
            "15/15 [==============================] - 0s 5ms/step - loss: 0.1335 - accuracy: 0.9530 - val_loss: 0.0406 - val_accuracy: 0.9821\n",
            "Epoch 60/200\n",
            "15/15 [==============================] - 0s 6ms/step - loss: 0.0973 - accuracy: 0.9673 - val_loss: 0.0482 - val_accuracy: 0.9821\n",
            "Epoch 61/200\n",
            "15/15 [==============================] - 0s 6ms/step - loss: 0.1230 - accuracy: 0.9627 - val_loss: 0.0375 - val_accuracy: 0.9821\n",
            "Epoch 62/200\n",
            "15/15 [==============================] - 0s 5ms/step - loss: 0.1077 - accuracy: 0.9731 - val_loss: 0.0603 - val_accuracy: 0.9821\n",
            "Epoch 63/200\n",
            "15/15 [==============================] - 0s 6ms/step - loss: 0.0928 - accuracy: 0.9677 - val_loss: 0.0536 - val_accuracy: 0.9821\n",
            "Epoch 64/200\n",
            "15/15 [==============================] - 0s 5ms/step - loss: 0.1045 - accuracy: 0.9611 - val_loss: 0.0488 - val_accuracy: 0.9821\n",
            "Epoch 65/200\n",
            "15/15 [==============================] - 0s 6ms/step - loss: 0.1430 - accuracy: 0.9674 - val_loss: 0.0557 - val_accuracy: 0.9821\n",
            "Epoch 66/200\n",
            "15/15 [==============================] - 0s 6ms/step - loss: 0.1037 - accuracy: 0.9654 - val_loss: 0.0518 - val_accuracy: 0.9821\n",
            "Epoch 67/200\n",
            "15/15 [==============================] - 0s 6ms/step - loss: 0.0930 - accuracy: 0.9744 - val_loss: 0.0502 - val_accuracy: 0.9821\n",
            "Epoch 68/200\n",
            "15/15 [==============================] - 0s 6ms/step - loss: 0.1281 - accuracy: 0.9479 - val_loss: 0.0452 - val_accuracy: 0.9821\n",
            "Epoch 69/200\n",
            "15/15 [==============================] - 0s 5ms/step - loss: 0.1276 - accuracy: 0.9647 - val_loss: 0.0454 - val_accuracy: 0.9821\n",
            "Epoch 70/200\n",
            "15/15 [==============================] - 0s 6ms/step - loss: 0.1116 - accuracy: 0.9638 - val_loss: 0.0489 - val_accuracy: 0.9821\n",
            "Epoch 71/200\n",
            "15/15 [==============================] - 0s 5ms/step - loss: 0.1131 - accuracy: 0.9661 - val_loss: 0.0501 - val_accuracy: 0.9821\n",
            "Epoch 72/200\n",
            "15/15 [==============================] - 0s 5ms/step - loss: 0.0810 - accuracy: 0.9712 - val_loss: 0.0523 - val_accuracy: 0.9821\n",
            "Epoch 73/200\n",
            "15/15 [==============================] - 0s 5ms/step - loss: 0.1249 - accuracy: 0.9515 - val_loss: 0.0742 - val_accuracy: 0.9732\n",
            "Epoch 74/200\n",
            "15/15 [==============================] - 0s 6ms/step - loss: 0.0819 - accuracy: 0.9723 - val_loss: 0.0505 - val_accuracy: 0.9732\n",
            "Epoch 75/200\n",
            "15/15 [==============================] - 0s 6ms/step - loss: 0.1127 - accuracy: 0.9529 - val_loss: 0.0545 - val_accuracy: 0.9732\n",
            "Epoch 76/200\n",
            "15/15 [==============================] - 0s 6ms/step - loss: 0.0985 - accuracy: 0.9646 - val_loss: 0.0531 - val_accuracy: 0.9821\n",
            "Epoch 77/200\n",
            "15/15 [==============================] - 0s 6ms/step - loss: 0.1362 - accuracy: 0.9570 - val_loss: 0.0548 - val_accuracy: 0.9821\n",
            "Epoch 78/200\n",
            "15/15 [==============================] - 0s 6ms/step - loss: 0.1083 - accuracy: 0.9573 - val_loss: 0.0531 - val_accuracy: 0.9821\n",
            "Epoch 79/200\n",
            "15/15 [==============================] - 0s 6ms/step - loss: 0.0998 - accuracy: 0.9691 - val_loss: 0.0483 - val_accuracy: 0.9821\n",
            "Epoch 80/200\n",
            "15/15 [==============================] - 0s 5ms/step - loss: 0.0904 - accuracy: 0.9679 - val_loss: 0.0591 - val_accuracy: 0.9821\n",
            "Epoch 81/200\n",
            "15/15 [==============================] - 0s 6ms/step - loss: 0.1180 - accuracy: 0.9609 - val_loss: 0.0450 - val_accuracy: 0.9821\n",
            "Epoch 82/200\n",
            "15/15 [==============================] - 0s 6ms/step - loss: 0.0927 - accuracy: 0.9715 - val_loss: 0.0433 - val_accuracy: 0.9821\n",
            "Epoch 83/200\n",
            "15/15 [==============================] - 0s 6ms/step - loss: 0.1082 - accuracy: 0.9668 - val_loss: 0.0421 - val_accuracy: 0.9821\n",
            "Epoch 84/200\n",
            "15/15 [==============================] - 0s 5ms/step - loss: 0.1294 - accuracy: 0.9655 - val_loss: 0.0457 - val_accuracy: 0.9911\n",
            "Epoch 85/200\n",
            "15/15 [==============================] - 0s 6ms/step - loss: 0.1154 - accuracy: 0.9548 - val_loss: 0.0582 - val_accuracy: 0.9732\n",
            "Epoch 86/200\n",
            "15/15 [==============================] - 0s 7ms/step - loss: 0.1385 - accuracy: 0.9567 - val_loss: 0.0470 - val_accuracy: 0.9821\n",
            "Epoch 87/200\n",
            "15/15 [==============================] - 0s 6ms/step - loss: 0.1218 - accuracy: 0.9617 - val_loss: 0.0435 - val_accuracy: 0.9911\n",
            "Epoch 88/200\n",
            "15/15 [==============================] - 0s 6ms/step - loss: 0.0914 - accuracy: 0.9660 - val_loss: 0.0599 - val_accuracy: 0.9732\n",
            "Epoch 89/200\n",
            "15/15 [==============================] - 0s 5ms/step - loss: 0.0957 - accuracy: 0.9634 - val_loss: 0.0540 - val_accuracy: 0.9821\n",
            "Epoch 90/200\n",
            "15/15 [==============================] - 0s 5ms/step - loss: 0.1244 - accuracy: 0.9560 - val_loss: 0.0431 - val_accuracy: 0.9821\n",
            "Epoch 91/200\n",
            "15/15 [==============================] - 0s 6ms/step - loss: 0.0971 - accuracy: 0.9756 - val_loss: 0.0452 - val_accuracy: 0.9821\n",
            "Epoch 92/200\n",
            "15/15 [==============================] - 0s 6ms/step - loss: 0.0717 - accuracy: 0.9739 - val_loss: 0.0490 - val_accuracy: 0.9821\n",
            "Epoch 93/200\n",
            "15/15 [==============================] - 0s 6ms/step - loss: 0.0964 - accuracy: 0.9628 - val_loss: 0.0430 - val_accuracy: 0.9821\n",
            "Epoch 94/200\n",
            "15/15 [==============================] - 0s 6ms/step - loss: 0.0950 - accuracy: 0.9734 - val_loss: 0.0616 - val_accuracy: 0.9732\n",
            "Epoch 95/200\n",
            "15/15 [==============================] - 0s 7ms/step - loss: 0.1074 - accuracy: 0.9632 - val_loss: 0.0412 - val_accuracy: 0.9821\n",
            "Epoch 96/200\n",
            "15/15 [==============================] - 0s 6ms/step - loss: 0.0881 - accuracy: 0.9751 - val_loss: 0.0458 - val_accuracy: 0.9732\n",
            "Epoch 97/200\n",
            "15/15 [==============================] - 0s 6ms/step - loss: 0.0964 - accuracy: 0.9668 - val_loss: 0.0545 - val_accuracy: 0.9732\n",
            "Epoch 98/200\n",
            "15/15 [==============================] - 0s 5ms/step - loss: 0.0823 - accuracy: 0.9698 - val_loss: 0.0617 - val_accuracy: 0.9732\n",
            "Epoch 99/200\n",
            "15/15 [==============================] - 0s 6ms/step - loss: 0.1211 - accuracy: 0.9620 - val_loss: 0.0523 - val_accuracy: 0.9732\n",
            "Epoch 100/200\n",
            "15/15 [==============================] - 0s 6ms/step - loss: 0.0877 - accuracy: 0.9817 - val_loss: 0.0610 - val_accuracy: 0.9732\n",
            "Epoch 101/200\n",
            "15/15 [==============================] - 0s 24ms/step - loss: 0.0953 - accuracy: 0.9744 - val_loss: 0.0635 - val_accuracy: 0.9732\n",
            "Epoch 102/200\n",
            "15/15 [==============================] - 0s 6ms/step - loss: 0.0745 - accuracy: 0.9829 - val_loss: 0.0595 - val_accuracy: 0.9732\n",
            "Epoch 103/200\n",
            "15/15 [==============================] - 0s 6ms/step - loss: 0.0800 - accuracy: 0.9729 - val_loss: 0.0481 - val_accuracy: 0.9732\n",
            "Epoch 104/200\n",
            "15/15 [==============================] - 0s 6ms/step - loss: 0.1191 - accuracy: 0.9622 - val_loss: 0.0497 - val_accuracy: 0.9732\n",
            "Epoch 105/200\n",
            "15/15 [==============================] - 0s 5ms/step - loss: 0.1059 - accuracy: 0.9698 - val_loss: 0.0704 - val_accuracy: 0.9732\n",
            "Epoch 106/200\n",
            "15/15 [==============================] - 0s 5ms/step - loss: 0.0765 - accuracy: 0.9831 - val_loss: 0.0466 - val_accuracy: 0.9821\n",
            "Epoch 107/200\n",
            "15/15 [==============================] - 0s 6ms/step - loss: 0.0915 - accuracy: 0.9786 - val_loss: 0.0566 - val_accuracy: 0.9732\n",
            "Epoch 108/200\n",
            "15/15 [==============================] - 0s 6ms/step - loss: 0.0931 - accuracy: 0.9671 - val_loss: 0.0726 - val_accuracy: 0.9732\n",
            "Epoch 109/200\n",
            "15/15 [==============================] - 0s 6ms/step - loss: 0.0817 - accuracy: 0.9786 - val_loss: 0.0501 - val_accuracy: 0.9732\n",
            "Epoch 110/200\n",
            "15/15 [==============================] - 0s 6ms/step - loss: 0.0674 - accuracy: 0.9809 - val_loss: 0.0586 - val_accuracy: 0.9732\n",
            "Epoch 111/200\n",
            "15/15 [==============================] - 0s 7ms/step - loss: 0.0970 - accuracy: 0.9691 - val_loss: 0.0673 - val_accuracy: 0.9732\n",
            "Epoch 112/200\n",
            "15/15 [==============================] - 0s 6ms/step - loss: 0.0712 - accuracy: 0.9743 - val_loss: 0.0506 - val_accuracy: 0.9732\n",
            "Epoch 113/200\n",
            "15/15 [==============================] - 0s 6ms/step - loss: 0.0815 - accuracy: 0.9670 - val_loss: 0.0505 - val_accuracy: 0.9732\n",
            "Epoch 114/200\n",
            "15/15 [==============================] - 0s 7ms/step - loss: 0.1089 - accuracy: 0.9508 - val_loss: 0.0587 - val_accuracy: 0.9732\n",
            "Epoch 115/200\n",
            "15/15 [==============================] - 0s 6ms/step - loss: 0.0933 - accuracy: 0.9629 - val_loss: 0.0565 - val_accuracy: 0.9732\n",
            "Epoch 116/200\n",
            "15/15 [==============================] - 0s 6ms/step - loss: 0.0808 - accuracy: 0.9599 - val_loss: 0.0530 - val_accuracy: 0.9732\n",
            "Epoch 117/200\n",
            "15/15 [==============================] - 0s 7ms/step - loss: 0.1053 - accuracy: 0.9655 - val_loss: 0.0673 - val_accuracy: 0.9732\n",
            "Epoch 118/200\n",
            "15/15 [==============================] - 0s 7ms/step - loss: 0.0920 - accuracy: 0.9731 - val_loss: 0.0612 - val_accuracy: 0.9732\n",
            "Epoch 119/200\n",
            "15/15 [==============================] - 0s 7ms/step - loss: 0.0959 - accuracy: 0.9650 - val_loss: 0.0569 - val_accuracy: 0.9732\n",
            "Epoch 120/200\n",
            "15/15 [==============================] - 0s 7ms/step - loss: 0.0666 - accuracy: 0.9785 - val_loss: 0.0633 - val_accuracy: 0.9732\n",
            "Epoch 121/200\n",
            "15/15 [==============================] - 0s 7ms/step - loss: 0.1209 - accuracy: 0.9633 - val_loss: 0.0530 - val_accuracy: 0.9821\n",
            "Epoch 122/200\n",
            "15/15 [==============================] - 0s 6ms/step - loss: 0.0572 - accuracy: 0.9817 - val_loss: 0.0613 - val_accuracy: 0.9732\n",
            "Epoch 123/200\n",
            "15/15 [==============================] - 0s 6ms/step - loss: 0.0906 - accuracy: 0.9692 - val_loss: 0.0525 - val_accuracy: 0.9732\n",
            "Epoch 124/200\n",
            "15/15 [==============================] - 0s 7ms/step - loss: 0.0845 - accuracy: 0.9736 - val_loss: 0.0463 - val_accuracy: 0.9732\n",
            "Epoch 125/200\n",
            "15/15 [==============================] - 0s 7ms/step - loss: 0.0765 - accuracy: 0.9846 - val_loss: 0.0433 - val_accuracy: 0.9821\n",
            "Epoch 126/200\n",
            "15/15 [==============================] - 0s 6ms/step - loss: 0.0815 - accuracy: 0.9817 - val_loss: 0.0518 - val_accuracy: 0.9732\n",
            "Epoch 127/200\n",
            "15/15 [==============================] - 0s 6ms/step - loss: 0.0717 - accuracy: 0.9732 - val_loss: 0.0494 - val_accuracy: 0.9732\n",
            "Epoch 128/200\n",
            "15/15 [==============================] - 0s 8ms/step - loss: 0.1067 - accuracy: 0.9634 - val_loss: 0.0583 - val_accuracy: 0.9732\n",
            "Epoch 129/200\n",
            "15/15 [==============================] - 0s 6ms/step - loss: 0.0866 - accuracy: 0.9698 - val_loss: 0.0557 - val_accuracy: 0.9732\n",
            "Epoch 130/200\n",
            "15/15 [==============================] - 0s 6ms/step - loss: 0.0759 - accuracy: 0.9792 - val_loss: 0.0465 - val_accuracy: 0.9732\n",
            "Epoch 131/200\n",
            "15/15 [==============================] - 0s 6ms/step - loss: 0.1563 - accuracy: 0.9611 - val_loss: 0.0524 - val_accuracy: 0.9732\n",
            "Epoch 132/200\n",
            "15/15 [==============================] - 0s 5ms/step - loss: 0.0674 - accuracy: 0.9884 - val_loss: 0.0558 - val_accuracy: 0.9732\n",
            "Epoch 133/200\n",
            "15/15 [==============================] - 0s 6ms/step - loss: 0.0988 - accuracy: 0.9744 - val_loss: 0.0556 - val_accuracy: 0.9732\n",
            "Epoch 134/200\n",
            "15/15 [==============================] - 0s 6ms/step - loss: 0.0625 - accuracy: 0.9892 - val_loss: 0.0322 - val_accuracy: 0.9911\n",
            "Epoch 135/200\n",
            "15/15 [==============================] - 0s 6ms/step - loss: 0.0724 - accuracy: 0.9799 - val_loss: 0.0551 - val_accuracy: 0.9643\n",
            "Epoch 136/200\n",
            "15/15 [==============================] - 0s 6ms/step - loss: 0.0873 - accuracy: 0.9748 - val_loss: 0.0496 - val_accuracy: 0.9732\n",
            "Epoch 137/200\n",
            "15/15 [==============================] - 0s 5ms/step - loss: 0.0818 - accuracy: 0.9734 - val_loss: 0.0465 - val_accuracy: 0.9732\n",
            "Epoch 138/200\n",
            "15/15 [==============================] - 0s 7ms/step - loss: 0.0531 - accuracy: 0.9869 - val_loss: 0.0539 - val_accuracy: 0.9643\n",
            "Epoch 139/200\n",
            "15/15 [==============================] - 0s 6ms/step - loss: 0.0924 - accuracy: 0.9763 - val_loss: 0.0431 - val_accuracy: 0.9821\n",
            "Epoch 140/200\n",
            "15/15 [==============================] - 0s 6ms/step - loss: 0.0619 - accuracy: 0.9835 - val_loss: 0.0461 - val_accuracy: 0.9732\n",
            "Epoch 141/200\n",
            "15/15 [==============================] - 0s 7ms/step - loss: 0.0781 - accuracy: 0.9774 - val_loss: 0.0469 - val_accuracy: 0.9732\n",
            "Epoch 142/200\n",
            "15/15 [==============================] - 0s 7ms/step - loss: 0.1123 - accuracy: 0.9669 - val_loss: 0.0445 - val_accuracy: 0.9821\n",
            "Epoch 143/200\n",
            "15/15 [==============================] - 0s 6ms/step - loss: 0.0935 - accuracy: 0.9641 - val_loss: 0.0388 - val_accuracy: 0.9821\n",
            "Epoch 144/200\n",
            "15/15 [==============================] - 0s 7ms/step - loss: 0.0747 - accuracy: 0.9795 - val_loss: 0.0308 - val_accuracy: 1.0000\n",
            "Epoch 145/200\n",
            "15/15 [==============================] - 0s 7ms/step - loss: 0.0831 - accuracy: 0.9778 - val_loss: 0.0755 - val_accuracy: 0.9643\n",
            "Epoch 146/200\n",
            "15/15 [==============================] - 0s 5ms/step - loss: 0.0652 - accuracy: 0.9756 - val_loss: 0.0432 - val_accuracy: 0.9821\n",
            "Epoch 147/200\n",
            "15/15 [==============================] - 0s 7ms/step - loss: 0.0623 - accuracy: 0.9833 - val_loss: 0.0510 - val_accuracy: 0.9732\n",
            "Epoch 148/200\n",
            "15/15 [==============================] - 0s 7ms/step - loss: 0.0549 - accuracy: 0.9823 - val_loss: 0.0617 - val_accuracy: 0.9732\n",
            "Epoch 149/200\n",
            "15/15 [==============================] - 0s 6ms/step - loss: 0.1117 - accuracy: 0.9694 - val_loss: 0.0375 - val_accuracy: 0.9911\n",
            "Epoch 150/200\n",
            "15/15 [==============================] - 0s 6ms/step - loss: 0.0574 - accuracy: 0.9798 - val_loss: 0.0337 - val_accuracy: 0.9821\n",
            "Epoch 151/200\n",
            "15/15 [==============================] - 0s 6ms/step - loss: 0.0715 - accuracy: 0.9757 - val_loss: 0.0539 - val_accuracy: 0.9732\n",
            "Epoch 152/200\n",
            "15/15 [==============================] - 0s 6ms/step - loss: 0.1074 - accuracy: 0.9605 - val_loss: 0.0514 - val_accuracy: 0.9732\n",
            "Epoch 153/200\n",
            "15/15 [==============================] - 0s 6ms/step - loss: 0.0642 - accuracy: 0.9758 - val_loss: 0.0457 - val_accuracy: 0.9821\n",
            "Epoch 154/200\n",
            "15/15 [==============================] - 0s 6ms/step - loss: 0.0617 - accuracy: 0.9874 - val_loss: 0.0546 - val_accuracy: 0.9732\n",
            "Epoch 155/200\n",
            "15/15 [==============================] - 0s 6ms/step - loss: 0.0916 - accuracy: 0.9698 - val_loss: 0.0644 - val_accuracy: 0.9643\n",
            "Epoch 156/200\n",
            "15/15 [==============================] - 0s 6ms/step - loss: 0.0659 - accuracy: 0.9855 - val_loss: 0.0472 - val_accuracy: 0.9821\n",
            "Epoch 157/200\n",
            "15/15 [==============================] - 0s 6ms/step - loss: 0.0711 - accuracy: 0.9794 - val_loss: 0.0589 - val_accuracy: 0.9732\n",
            "Epoch 158/200\n",
            "15/15 [==============================] - 0s 6ms/step - loss: 0.0964 - accuracy: 0.9634 - val_loss: 0.0608 - val_accuracy: 0.9643\n",
            "Epoch 159/200\n",
            "15/15 [==============================] - 0s 7ms/step - loss: 0.0663 - accuracy: 0.9824 - val_loss: 0.0566 - val_accuracy: 0.9643\n",
            "Epoch 160/200\n",
            "15/15 [==============================] - 0s 7ms/step - loss: 0.1301 - accuracy: 0.9618 - val_loss: 0.0438 - val_accuracy: 0.9821\n",
            "Epoch 161/200\n",
            "15/15 [==============================] - 0s 5ms/step - loss: 0.0670 - accuracy: 0.9837 - val_loss: 0.0602 - val_accuracy: 0.9732\n",
            "Epoch 162/200\n",
            "15/15 [==============================] - 0s 6ms/step - loss: 0.0625 - accuracy: 0.9859 - val_loss: 0.0741 - val_accuracy: 0.9643\n",
            "Epoch 163/200\n",
            "15/15 [==============================] - 0s 5ms/step - loss: 0.0485 - accuracy: 0.9874 - val_loss: 0.0592 - val_accuracy: 0.9732\n",
            "Epoch 164/200\n",
            "15/15 [==============================] - 0s 7ms/step - loss: 0.1089 - accuracy: 0.9737 - val_loss: 0.0647 - val_accuracy: 0.9732\n",
            "Epoch 165/200\n",
            "15/15 [==============================] - 0s 6ms/step - loss: 0.0599 - accuracy: 0.9824 - val_loss: 0.0376 - val_accuracy: 0.9911\n",
            "Epoch 166/200\n",
            "15/15 [==============================] - 0s 7ms/step - loss: 0.0776 - accuracy: 0.9704 - val_loss: 0.0488 - val_accuracy: 0.9821\n",
            "Epoch 167/200\n",
            "15/15 [==============================] - 0s 7ms/step - loss: 0.0731 - accuracy: 0.9766 - val_loss: 0.0467 - val_accuracy: 0.9732\n",
            "Epoch 168/200\n",
            "15/15 [==============================] - 0s 6ms/step - loss: 0.0879 - accuracy: 0.9658 - val_loss: 0.0542 - val_accuracy: 0.9732\n",
            "Epoch 169/200\n",
            "15/15 [==============================] - 0s 7ms/step - loss: 0.0644 - accuracy: 0.9801 - val_loss: 0.0600 - val_accuracy: 0.9643\n",
            "Epoch 170/200\n",
            "15/15 [==============================] - 0s 7ms/step - loss: 0.0504 - accuracy: 0.9876 - val_loss: 0.0556 - val_accuracy: 0.9821\n",
            "Epoch 171/200\n",
            "15/15 [==============================] - 0s 6ms/step - loss: 0.0868 - accuracy: 0.9724 - val_loss: 0.0616 - val_accuracy: 0.9732\n",
            "Epoch 172/200\n",
            "15/15 [==============================] - 0s 7ms/step - loss: 0.0864 - accuracy: 0.9684 - val_loss: 0.0521 - val_accuracy: 0.9821\n",
            "Epoch 173/200\n",
            "15/15 [==============================] - 0s 6ms/step - loss: 0.0550 - accuracy: 0.9810 - val_loss: 0.0447 - val_accuracy: 0.9821\n",
            "Epoch 174/200\n",
            "15/15 [==============================] - 0s 6ms/step - loss: 0.0686 - accuracy: 0.9831 - val_loss: 0.0844 - val_accuracy: 0.9643\n",
            "Epoch 175/200\n",
            "15/15 [==============================] - 0s 6ms/step - loss: 0.0578 - accuracy: 0.9743 - val_loss: 0.0380 - val_accuracy: 0.9821\n",
            "Epoch 176/200\n",
            "15/15 [==============================] - 0s 7ms/step - loss: 0.0838 - accuracy: 0.9703 - val_loss: 0.0351 - val_accuracy: 0.9821\n",
            "Epoch 177/200\n",
            "15/15 [==============================] - 0s 6ms/step - loss: 0.0473 - accuracy: 0.9850 - val_loss: 0.0340 - val_accuracy: 0.9911\n",
            "Epoch 178/200\n",
            "15/15 [==============================] - 0s 6ms/step - loss: 0.1011 - accuracy: 0.9700 - val_loss: 0.0501 - val_accuracy: 0.9732\n",
            "Epoch 179/200\n",
            "15/15 [==============================] - 0s 6ms/step - loss: 0.0780 - accuracy: 0.9751 - val_loss: 0.0357 - val_accuracy: 0.9911\n",
            "Epoch 180/200\n",
            "15/15 [==============================] - 0s 6ms/step - loss: 0.0754 - accuracy: 0.9802 - val_loss: 0.0485 - val_accuracy: 0.9732\n",
            "Epoch 181/200\n",
            "15/15 [==============================] - 0s 6ms/step - loss: 0.0591 - accuracy: 0.9781 - val_loss: 0.0480 - val_accuracy: 0.9732\n",
            "Epoch 182/200\n",
            "15/15 [==============================] - 0s 7ms/step - loss: 0.0882 - accuracy: 0.9647 - val_loss: 0.0523 - val_accuracy: 0.9732\n",
            "Epoch 183/200\n",
            "15/15 [==============================] - 0s 6ms/step - loss: 0.0629 - accuracy: 0.9810 - val_loss: 0.0487 - val_accuracy: 0.9732\n",
            "Epoch 184/200\n",
            "15/15 [==============================] - 0s 6ms/step - loss: 0.0597 - accuracy: 0.9854 - val_loss: 0.0645 - val_accuracy: 0.9732\n",
            "Epoch 185/200\n",
            "15/15 [==============================] - 0s 6ms/step - loss: 0.0887 - accuracy: 0.9671 - val_loss: 0.0421 - val_accuracy: 0.9732\n",
            "Epoch 186/200\n",
            "15/15 [==============================] - 0s 5ms/step - loss: 0.1019 - accuracy: 0.9705 - val_loss: 0.0409 - val_accuracy: 0.9732\n",
            "Epoch 187/200\n",
            "15/15 [==============================] - 0s 6ms/step - loss: 0.0519 - accuracy: 0.9822 - val_loss: 0.0495 - val_accuracy: 0.9732\n",
            "Epoch 188/200\n",
            "15/15 [==============================] - 0s 6ms/step - loss: 0.0558 - accuracy: 0.9798 - val_loss: 0.0390 - val_accuracy: 0.9821\n",
            "Epoch 189/200\n",
            "15/15 [==============================] - 0s 5ms/step - loss: 0.0766 - accuracy: 0.9731 - val_loss: 0.0574 - val_accuracy: 0.9732\n",
            "Epoch 190/200\n",
            "15/15 [==============================] - 0s 7ms/step - loss: 0.0670 - accuracy: 0.9742 - val_loss: 0.0601 - val_accuracy: 0.9732\n",
            "Epoch 191/200\n",
            "15/15 [==============================] - 0s 6ms/step - loss: 0.0575 - accuracy: 0.9811 - val_loss: 0.0329 - val_accuracy: 0.9911\n",
            "Epoch 192/200\n",
            "15/15 [==============================] - 0s 6ms/step - loss: 0.0944 - accuracy: 0.9699 - val_loss: 0.0373 - val_accuracy: 0.9821\n",
            "Epoch 193/200\n",
            "15/15 [==============================] - 0s 6ms/step - loss: 0.0956 - accuracy: 0.9710 - val_loss: 0.0414 - val_accuracy: 0.9821\n",
            "Epoch 194/200\n",
            "15/15 [==============================] - 0s 6ms/step - loss: 0.0779 - accuracy: 0.9740 - val_loss: 0.0493 - val_accuracy: 0.9732\n",
            "Epoch 195/200\n",
            "15/15 [==============================] - 0s 5ms/step - loss: 0.0743 - accuracy: 0.9723 - val_loss: 0.0440 - val_accuracy: 0.9821\n",
            "Epoch 196/200\n",
            "15/15 [==============================] - 0s 5ms/step - loss: 0.0620 - accuracy: 0.9809 - val_loss: 0.0579 - val_accuracy: 0.9732\n",
            "Epoch 197/200\n",
            "15/15 [==============================] - 0s 6ms/step - loss: 0.0644 - accuracy: 0.9718 - val_loss: 0.0614 - val_accuracy: 0.9732\n",
            "Epoch 198/200\n",
            "15/15 [==============================] - 0s 6ms/step - loss: 0.0653 - accuracy: 0.9888 - val_loss: 0.0400 - val_accuracy: 0.9732\n",
            "Epoch 199/200\n",
            "15/15 [==============================] - 0s 6ms/step - loss: 0.0613 - accuracy: 0.9840 - val_loss: 0.0488 - val_accuracy: 0.9732\n",
            "Epoch 200/200\n",
            "15/15 [==============================] - 0s 6ms/step - loss: 0.0553 - accuracy: 0.9902 - val_loss: 0.0568 - val_accuracy: 0.9732\n"
          ],
          "name": "stdout"
        }
      ]
    },
    {
      "cell_type": "code",
      "metadata": {
        "colab": {
          "base_uri": "https://localhost:8080/"
        },
        "id": "DGsnAJNEba3u",
        "outputId": "ad1f8d6c-992d-49b4-9c64-1e37fab6f740"
      },
      "source": [
        "history_dict = history.history\n",
        "print(history_dict.keys())"
      ],
      "execution_count": 158,
      "outputs": [
        {
          "output_type": "stream",
          "text": [
            "dict_keys(['loss', 'accuracy', 'val_loss', 'val_accuracy'])\n"
          ],
          "name": "stdout"
        }
      ]
    },
    {
      "cell_type": "code",
      "metadata": {
        "colab": {
          "base_uri": "https://localhost:8080/",
          "height": 637
        },
        "id": "H0iLFH3obR1m",
        "outputId": "036a8df5-1134-4aac-de24-1415ab090146"
      },
      "source": [
        "plt.plot(history.history['accuracy'])\n",
        "plt.plot(history.history['val_accuracy'])\n",
        "plt.title('model mse')\n",
        "plt.ylabel('mse')\n",
        "plt.xlabel('epoch')\n",
        "plt.legend(['train', 'validation'], loc='upper left')\n",
        "plt.savefig('destination_path.eps', format='eps', dpi=1000)\n",
        "plt.show()\n",
        "# summarize history for loss\n",
        "plt.plot(history.history['loss'])\n",
        "plt.plot(history.history['val_loss'])\n",
        "plt.title('model loss')\n",
        "plt.ylabel('loss')\n",
        "plt.xlabel('epoch')\n",
        "plt.legend(['train', 'validation'], loc='upper left')\n",
        "plt.savefig('destination_path1.eps', format='eps', dpi=1000)\n",
        "plt.show()"
      ],
      "execution_count": 159,
      "outputs": [
        {
          "output_type": "stream",
          "text": [
            "The PostScript backend does not support transparency; partially transparent artists will be rendered opaque.\n",
            "The PostScript backend does not support transparency; partially transparent artists will be rendered opaque.\n"
          ],
          "name": "stderr"
        },
        {
          "output_type": "display_data",
          "data": {
            "image/png": "[encoded data removed]",
            "text/plain": [
              "<Figure size 432x288 with 1 Axes>"
            ]
          },
          "metadata": {
            "tags": [],
            "needs_background": "light"
          }
        },
        {
          "output_type": "stream",
          "text": [
            "The PostScript backend does not support transparency; partially transparent artists will be rendered opaque.\n",
            "The PostScript backend does not support transparency; partially transparent artists will be rendered opaque.\n"
          ],
          "name": "stderr"
        },
        {
          "output_type": "display_data",
          "data": {
            "image/png": "[encoded data removed]",
            "text/plain": [
              "<Figure size 432x288 with 1 Axes>"
            ]
          },
          "metadata": {
            "tags": [],
            "needs_background": "light"
          }
        }
      ]
    }
  ]
}