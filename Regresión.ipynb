{
  "nbformat": 4,
  "nbformat_minor": 0,
  "metadata": {
    "colab": {
      "name": "Regresión.ipynb",
      "provenance": [],
      "collapsed_sections": []
    },
    "kernelspec": {
      "name": "python3",
      "display_name": "Python 3"
    },
    "language_info": {
      "name": "python"
    }
  },
  "cells": [
    {
      "cell_type": "markdown",
      "metadata": {
        "id": "HngalRTnuAWy"
      },
      "source": [
        "# 1. Historia"
      ]
    },
    {
      "cell_type": "markdown",
      "metadata": {
        "id": "MlIJ3QO4uD4v"
      },
      "source": [
        "Las técnicas estadísticas son herramientas que permiten responder preguntas sobre posibles patrones en los datos empíricos. No es sorprendente, entonces, que muchas técnicas importantes de análisis estadístico fueran desarrolladas por científicos interesados ​​en responder preguntas empíricas muy específicas. Así sucedió con el análisis de regresión. La historia de esta técnica estadística en particular se remonta a la Inglaterra de fines del siglo XIX y las actividades del científico Francis Galton. Galton nació en una familia adinerada de genios; él y Charles Darwin eran primos hermanos. Durante su vida, Galton estudió de todo, desde la clasificación de huellas dactilares hasta la meteorología, pero obtuvo un amplio reconocimiento principalmente por su trabajo sobre la herencia. Su idea más importante se le ocurrió mientras estudiaba la herencia de una de las características humanas: la altura. Para comprender cómo se transmitía la característica de la altura de una generación a la siguiente, Galton recopiló datos sobre la altura de los individuos y la altura de sus padres. Después de construir tablas de frecuencia que clasificaban a estos individuos tanto por su estatura como por la estatura promedio de sus padres, Galton llegó a la conclusión ordinaria de que las personas altas generalmente tenían padres altos y las personas bajas generalmente tenían padres bajos.\n",
        "\n",
        "Galton publicó su análisis de sus datos en el artículo de 1886 \"Regression Towards Mediocrity in Hereditary Stature\". Ahora nos referimos a este fenómeno que Galton descubrió como regresión a la media.\n",
        "\n",
        "La \"regresión\" se asoció con el método de predicción por mínimos cuadrados a finales del siglo XIX. Karl Pearson, uno de los fundadores de la estadística matemática y un colega de Galton, notó que si graficaba la altura de los padres en el eje x y de sus hijos en el eje y, la línea que mejor se ajustaba a los datos de acuerdo con los mínimos cuadrados tenía una pendiente de menos de uno. Una pendiente de menos de uno es esencialmente la representación matemática de la \"regresión a la media\". Pearson se refirió a esta pendiente en un gráfico como la \"línea de regresión\". Y así, el método de mínimos cuadrados y regresión se convirtió en algo sinónimo\n",
        "\n",
        "El análisis de regresión tal como lo conocemos hoy en día es principalmente el trabajo de R.A. Fisher, uno de los estadísticos más reconocidos del siglo XX. Fisher combinó el trabajo de Gauss y Pearson para desarrollar una teoría completa de las propiedades de la estimación por mínimos cuadrados. Debido al trabajo de Fisher, el análisis de regresión no solo se usa para predecir y comprender correlaciones, sino también para inferencias sobre la relación entre un factor y un resultado. Después de Fisher, ha habido una variedad de importantes extensiones de regresión, incluida la regresión logística, la regresión no paramétrica, la regresión bayesiana y la regresión que incorpora la regularización.\n",
        "\n",
        "\n",
        "[Fuente](https://journals.sagepub.com/doi/pdf/10.1068/a300203)\n",
        "\n",
        "![Fisher](https://www.researchgate.net/profile/Fabian-Pedregosa/publication/278826818/figure/fig6/AS:614336141746180@1523480558705/Sir-R-A-Fisher-London-England-1908-Adelaide-Australia-1962-made-important.png)\n",
        "\n",
        "$$Fisher$$\n",
        "\n",
        "[Fuente](http://famestatisticians.blogspot.com/2012/03/10-most-famous-statisticians.html)\n",
        "\n"
      ]
    },
    {
      "cell_type": "markdown",
      "metadata": {
        "id": "-ypC9DLknlSJ"
      },
      "source": [
        "# 2. Planteamiento del Algoritmo\n",
        "\n"
      ]
    },
    {
      "cell_type": "markdown",
      "metadata": {
        "id": "jpLO_H4Yno6o"
      },
      "source": [
        "El objetivo de la regresión (desde un enfoque de Machine Learning) es construir un sistema que pueda tomar un vector $x\\ \\epsilon\\ R^n $ como input y predecir el valor de un escalar  $y\\ \\epsilon \\ R$ como output. El output de la regresión lineal es una función lineal del input. Sea $\\hat{y}$ el valor que el modelo pronostica para $y$. Se define el output de la siguiente forma: $$\\hat{y}= w^Tx+b,$$\n",
        "donde $w\\ \\epsilon\\ R^n$ es el vector de parámetros. Se puede considerar el conjunto de parámetros $w$ como el conjunto de pesos (**weights**) que determinan cómo las variables (**features**) afectan los pronósticos. \n",
        "\n",
        "Una función de pérdida (**loss function**) cuantifica la distancia entre el valor pronsticado y observado de la variable objetivo. La función de pérdida más popular en los problemas de regresión es el **error cuadrático medio**. Cuando la predicción para una instancia particulai $i$ es $\\hat{y_i}$ y el valor observado es $y_i$, entonces el error cuadrado es: $$ l(w,b,x)=\\frac{1}{m}\\sum_i(\\hat{y}^{(i)}-y^{(i)})^2$$\n",
        "Cuando el modelo se entrena, se quieren encontrar los parámetros $w^*$  que minimiza la pérdida total a través de todas las instancias de entrenamiento. El entrenamiento consiste en reducir iterativamente el error actualizando los parámetros en la dirección que incrementalmente disminuye la función de pérdida. Este algoritmo se llama **gradiente descendiente**. La aplicación \"de juguete\" de este algoritmo consiste en tomar la derivada de la función de pérdida, pero en problemas reales esto puede ser muy lento porque el algoritmo debe recorrer la base entera antes de hacer una actualización. Por eso un algoritmo más realista consiste en tomar una muestra aleatoria de un minibatch de instancias cada vez que se requiere actualizar los parámetros. Esta variante se llama **minibatch stochastic gradient descent.** En cada iteración, se selecciona al azar un minibatch $B$ que consta de un número fijo de ejemplos de entrenamiento. Luego se calcula la derivada (gradiente) de la pérdida promedio en el minibatch con respecto a los parámetros del modelo. Finalmente, se multiplica el gradiente por un valor positivo predeterminado $\\eta$ y se resta el término resultante de los valores de los parámetros actuales. $$(w,b)←(w,b)−\\frac{\\eta}{|B|}\\sum_{i\\ \\epsilon\\ B} \\delta_{(w,b)}l^{(i)}(w,b).$$\n",
        "\n",
        "$w$ y $x$ son vectores. La cardinalidad del conjunto $|B|$ representa el número de ejemplos en cada minibatch (el tamaño del lote) y $\\eta$ denota la tasa de aprendizaje. Después de entrenar para un número predeterminado de iteraciones (o hasta que se cumplan otros criterios de detención), se encuentran los parámetros estimados del modelo, denominados $\\hat{w}\\ y\\ \\hat{b}.$"
      ]
    },
    {
      "cell_type": "markdown",
      "metadata": {
        "id": "x2Cn2f2IKaXr"
      },
      "source": [
        "# 3. Ejemplo Regresión"
      ]
    },
    {
      "cell_type": "markdown",
      "metadata": {
        "id": "uDH9UxToQ9Nd"
      },
      "source": [
        "Usamos la base de muestra: california_housing_train.csv. Contiene los precios de la vivienda en la zona de California y un conjunto de covariables asociadas. Se encuentra en los Sample Data que trae Python por defecto."
      ]
    },
    {
      "cell_type": "code",
      "metadata": {
        "id": "oNbo_tYRKhzD"
      },
      "source": [
        "#Se importan la librerias a utilizar\n",
        "import numpy as np\n",
        "import pandas as pd\n",
        "from sklearn import datasets, linear_model\n",
        "import matplotlib.pyplot as plt\n"
      ],
      "execution_count": 1,
      "outputs": []
    },
    {
      "cell_type": "code",
      "metadata": {
        "id": "4GVm1qwnP0_f"
      },
      "source": [
        "data=pd.read_csv('/content/sample_data/california_housing_train.csv')"
      ],
      "execution_count": 3,
      "outputs": []
    },
    {
      "cell_type": "code",
      "metadata": {
        "colab": {
          "base_uri": "https://localhost:8080/"
        },
        "id": "aPa_-XGGMSnA",
        "outputId": "3278bbcd-86a8-4c10-ee83-17e2e9a9db77"
      },
      "source": [
        "#Verifico la información contenida en el dataset\n",
        "print('Información en el dataset:')\n",
        "print(data.keys())"
      ],
      "execution_count": 4,
      "outputs": [
        {
          "output_type": "stream",
          "text": [
            "Información en el dataset:\n",
            "Index(['longitude', 'latitude', 'housing_median_age', 'total_rooms',\n",
            "       'total_bedrooms', 'population', 'households', 'median_income',\n",
            "       'median_house_value'],\n",
            "      dtype='object')\n"
          ],
          "name": "stdout"
        }
      ]
    },
    {
      "cell_type": "code",
      "metadata": {
        "colab": {
          "base_uri": "https://localhost:8080/"
        },
        "id": "rQiJUBTcMZPa",
        "outputId": "6b196a3a-12bb-4c25-d9ba-f3ab1af3f91a"
      },
      "source": [
        "#Verifico la cantidad de datos que hay en los dataset\n",
        "print('Cantidad de datos:')\n",
        "print(data.shape)"
      ],
      "execution_count": 5,
      "outputs": [
        {
          "output_type": "stream",
          "text": [
            "Cantidad de datos:\n",
            "(17000, 9)\n"
          ],
          "name": "stdout"
        }
      ]
    },
    {
      "cell_type": "code",
      "metadata": {
        "id": "41oHxibufVP7"
      },
      "source": [
        "from sklearn.preprocessing import MinMaxScaler\n",
        "scaler = MinMaxScaler()\n",
        "data = pd.DataFrame(scaler.fit_transform(data))"
      ],
      "execution_count": 6,
      "outputs": []
    },
    {
      "cell_type": "code",
      "metadata": {
        "id": "jTz7OtUNMlAY"
      },
      "source": [
        "#Seleccionamos solamente las columnas de interés del dataset. Lo volvemos un array\n",
        "X = data.iloc[:,2:8].to_numpy()"
      ],
      "execution_count": 7,
      "outputs": []
    },
    {
      "cell_type": "code",
      "metadata": {
        "id": "DvXcVIh-MoBw"
      },
      "source": [
        "#Defino los datos correspondientes a las etiquetas. Lo volvemos un array\n",
        "y = data.iloc[:,8].to_numpy()\n"
      ],
      "execution_count": 8,
      "outputs": []
    },
    {
      "cell_type": "markdown",
      "metadata": {
        "id": "GKWrFZD7RlY0"
      },
      "source": [
        "## 3.1 Primer Ejercicio: Gradiente Descendiente Simple from Scratch"
      ]
    },
    {
      "cell_type": "markdown",
      "metadata": {
        "id": "lCrkOdTFG-Vp"
      },
      "source": [
        "Adecuamos el código utilizado durante la clase para regresión multivariada"
      ]
    },
    {
      "cell_type": "code",
      "metadata": {
        "id": "nSeczNkAVbBw"
      },
      "source": [
        "from __future__ import print_function\n",
        "import jax.numpy as np # autograd para windows\n",
        "import numpy as onp\n",
        "import matplotlib.pyplot as plt\n",
        "from jax import grad,jit\n",
        "import pandas as pd"
      ],
      "execution_count": 132,
      "outputs": []
    },
    {
      "cell_type": "code",
      "metadata": {
        "id": "oofazAN0U01T"
      },
      "source": [
        "def linreg(w, b, X):  \n",
        "    \"\"\"The linear regression model.\"\"\"\n",
        "    return np.dot(X, w) + b"
      ],
      "execution_count": 133,
      "outputs": []
    },
    {
      "cell_type": "code",
      "metadata": {
        "id": "_Jovls8lVSig"
      },
      "source": [
        "def loss(w,b,X,y):\n",
        "    #return ((np.array([y]).T-linreg(X, w, b))**2).mean()  \n",
        "    #return ((y.reshape((-1, 1))-linreg(X, w, b))**2).mean()/ 2\n",
        "    return ((y.reshape((-1, 1))-linreg(w, b, X))**2).mean()\n",
        "## Diferenciación Automática\n",
        "grad_loss=jit(grad(loss,argnums=(0,1)))"
      ],
      "execution_count": 134,
      "outputs": []
    },
    {
      "cell_type": "code",
      "metadata": {
        "id": "Q14TqDZyWCqC"
      },
      "source": [
        "def optimize(w,b,X,y,h=0.03):\n",
        "    \n",
        "    # Calcular Derivada\n",
        "    w_grad,b_grad=grad_loss(w,b,X,y)\n",
        "    \n",
        "    # Gradiente Descendiente\n",
        "    w-=w_grad*h\n",
        "    b-=b_grad*h\n",
        "    \n",
        "    # Regresar Nuevos parámetros\n",
        "    return w,b"
      ],
      "execution_count": 135,
      "outputs": []
    },
    {
      "cell_type": "code",
      "metadata": {
        "colab": {
          "base_uri": "https://localhost:8080/"
        },
        "id": "A50zBBqfWScJ",
        "outputId": "51fa725d-d079-4257-937f-021d6dbeba11"
      },
      "source": [
        "## Initial Guess\n",
        "w = onp.random.normal(0, 0.01, (6, 1))\n",
        "b = onp.zeros(1)\n",
        "\n",
        "# Acumular resultados\n",
        "W0,B1=[],[]\n",
        "train_loss=[]\n",
        "# Número de veces que se cambian los parámetros\n",
        "epochs=300\n",
        "\n",
        "# Tasa de Aprendizaje\n",
        "lr=0.01\n",
        "\n",
        "print(\"Perdidas:\\n\")\n",
        "\n",
        "for epoch in range(epochs):\n",
        "    \n",
        "    w,b=optimize(w,b,X,y,lr)\n",
        "    \n",
        "    W0.append(w)\n",
        "    B1.append(b)\n",
        "    \n",
        "    losss=loss(w,b,X,y)\n",
        "    \n",
        "    train_loss.append(losss)\n",
        "    if epoch%10==0:\n",
        "        print(f\"Iteración {epoch}: {losss}\")"
      ],
      "execution_count": 136,
      "outputs": [
        {
          "output_type": "stream",
          "text": [
            "Perdidas:\n",
            "\n",
            "Iteración 0: 0.2025655210018158\n",
            "Iteración 10: 0.1387721449136734\n",
            "Iteración 20: 0.10224409401416779\n",
            "Iteración 30: 0.0812949612736702\n",
            "Iteración 40: 0.06924762576818466\n",
            "Iteración 50: 0.062287043780088425\n",
            "Iteración 60: 0.05823351442813873\n",
            "Iteración 70: 0.05584156885743141\n",
            "Iteración 80: 0.05439961701631546\n",
            "Iteración 90: 0.05350108444690704\n",
            "Iteración 100: 0.052913643419742584\n",
            "Iteración 110: 0.05250459909439087\n",
            "Iteración 120: 0.05219804868102074\n",
            "Iteración 130: 0.05195067822933197\n",
            "Iteración 140: 0.051737718284130096\n",
            "Iteración 150: 0.05154499411582947\n",
            "Iteración 160: 0.05136440694332123\n",
            "Iteración 170: 0.05119134485721588\n",
            "Iteración 180: 0.051023148000240326\n",
            "Iteración 190: 0.050858285278081894\n",
            "Iteración 200: 0.05069586634635925\n",
            "Iteración 210: 0.0505354218184948\n",
            "Iteración 220: 0.05037663131952286\n",
            "Iteración 230: 0.05021931976079941\n",
            "Iteración 240: 0.05006340891122818\n",
            "Iteración 250: 0.04990878701210022\n",
            "Iteración 260: 0.04975545033812523\n",
            "Iteración 270: 0.04960334300994873\n",
            "Iteración 280: 0.04945245757699013\n",
            "Iteración 290: 0.049302782863378525\n"
          ],
          "name": "stdout"
        }
      ]
    },
    {
      "cell_type": "code",
      "metadata": {
        "colab": {
          "base_uri": "https://localhost:8080/"
        },
        "id": "DNn2UHgQcq6V",
        "outputId": "b07fe2a6-8df7-4b76-8773-5b5c5b2b103e"
      },
      "source": [
        "print(W0[-1])\n",
        "print(B1[-1])"
      ],
      "execution_count": 137,
      "outputs": [
        {
          "output_type": "stream",
          "text": [
            "[[0.14916888]\n",
            " [0.03432504]\n",
            " [0.04526734]\n",
            " [0.01930829]\n",
            " [0.02388871]\n",
            " [0.17196749]]\n",
            "[0.26954347]\n"
          ],
          "name": "stdout"
        }
      ]
    },
    {
      "cell_type": "code",
      "metadata": {
        "colab": {
          "base_uri": "https://localhost:8080/",
          "height": 502
        },
        "id": "em3y1FfOuLNs",
        "outputId": "c833b876-3b24-4703-f213-c059a6d93316"
      },
      "source": [
        "%matplotlib inline\n",
        "plt.figure(figsize=(15,8))\n",
        "plt.semilogy(range(epochs),train_loss,'r-.')\n",
        "plt.xlabel(\"Epochs\",fontsize=15)\n",
        "plt.ylabel(\"Pérdida\",fontsize=15)\n",
        "plt.legend([\"Pérdida\"],fontsize=15)\n",
        "plt.grid()\n",
        "plt.show()"
      ],
      "execution_count": 138,
      "outputs": [
        {
          "output_type": "display_data",
          "data": {
            "image/png": "[encoded data removed]",
            "text/plain": [
              "<Figure size 1080x576 with 1 Axes>"
            ]
          },
          "metadata": {
            "tags": [],
            "needs_background": "light"
          }
        }
      ]
    },
    {
      "cell_type": "markdown",
      "metadata": {
        "id": "aQOH4uYyh46n"
      },
      "source": [
        "## 3.2 Segundo Ejercicio: Gradiente Descendiente Estocástico from Scratch"
      ]
    },
    {
      "cell_type": "markdown",
      "metadata": {
        "id": "uSnaiZ-AHQXB"
      },
      "source": [
        "Adecuamos el código utilizado durante la clase para incorporar los minibatch samples."
      ]
    },
    {
      "cell_type": "code",
      "metadata": {
        "colab": {
          "base_uri": "https://localhost:8080/"
        },
        "id": "VgWvKga3Bnau",
        "outputId": "390e21d1-e447-47cf-c058-f75d26c39e05"
      },
      "source": [
        "## Initial Guess\n",
        "w = onp.random.normal(0, 0.01, (6, 1))\n",
        "b = onp.zeros(1)\n",
        "batch_size = 128\n",
        "# Acumular resultados\n",
        "W0,B1=[],[]\n",
        "train_loss=[]\n",
        "# Número de veces que se cambian los parámetros\n",
        "epochs=300\n",
        "\n",
        "# Tasa de Aprendizaje\n",
        "lr=0.01\n",
        "\n",
        "print(\"Perdidas:\\n\")\n",
        "\n",
        "for epoch in range(epochs):\n",
        "\n",
        "    indexes = onp.random.randint(0, len(X), batch_size) # random sample\n",
        "    Xs = np.take(X, indexes, axis=0)\n",
        "    ys = np.take(y, indexes,axis=0)\n",
        "    \n",
        "    w,b=optimize(w,b,Xs,ys,lr)\n",
        "    \n",
        "    W0.append(w)\n",
        "    B1.append(b)\n",
        "    \n",
        "    losss=loss(w,b,X,y)\n",
        "    \n",
        "    train_loss.append(losss)\n",
        "    if epoch%128==0:\n",
        "        print(f\"Iteración {epoch}: {losss}\")"
      ],
      "execution_count": 139,
      "outputs": [
        {
          "output_type": "stream",
          "text": [
            "Perdidas:\n",
            "\n",
            "Iteración 0: 0.21289025247097015\n",
            "Iteración 128: 0.050965774804353714\n",
            "Iteración 256: 0.04889481142163277\n"
          ],
          "name": "stdout"
        }
      ]
    },
    {
      "cell_type": "code",
      "metadata": {
        "colab": {
          "base_uri": "https://localhost:8080/"
        },
        "id": "D2kfaySMCsl_",
        "outputId": "f5e6e82a-a4fc-4c76-cabb-08c23744f4d0"
      },
      "source": [
        "print(W0[-1])\n",
        "print(B1[-1])"
      ],
      "execution_count": 140,
      "outputs": [
        {
          "output_type": "stream",
          "text": [
            "[[0.13249685]\n",
            " [0.04801431]\n",
            " [0.01681442]\n",
            " [0.0061599 ]\n",
            " [0.02192763]\n",
            " [0.19463919]]\n",
            "[0.27634996]\n"
          ],
          "name": "stdout"
        }
      ]
    },
    {
      "cell_type": "code",
      "metadata": {
        "colab": {
          "base_uri": "https://localhost:8080/",
          "height": 502
        },
        "id": "iV77RczPDjm-",
        "outputId": "af9da869-45ac-4089-8124-60911498ec96"
      },
      "source": [
        "%matplotlib inline\n",
        "plt.figure(figsize=(15,8))\n",
        "plt.semilogy(range(epochs),train_loss,'r-.')\n",
        "plt.xlabel(\"Epochs\",fontsize=15)\n",
        "plt.ylabel(\"Pérdida\",fontsize=15)\n",
        "plt.legend([\"Pérdida\"],fontsize=15)\n",
        "plt.grid()\n",
        "plt.show()"
      ],
      "execution_count": 141,
      "outputs": [
        {
          "output_type": "display_data",
          "data": {
            "image/png": "[encoded data removed]",
            "text/plain": [
              "<Figure size 1080x576 with 1 Axes>"
            ]
          },
          "metadata": {
            "tags": [],
            "needs_background": "light"
          }
        }
      ]
    },
    {
      "cell_type": "markdown",
      "metadata": {
        "id": "-j4FN_idHV_3"
      },
      "source": [
        "# 4. Conclusión\n",
        "\n",
        "Se realizó la implementación manual de 2 métodos de optimización clásicos para una data de prueba sencilla. Se comprueba la mayor eficiencia del método SGD, aunque en ejercicios de \"juguete\" como estos, las diferencias no son muy significativas."
      ]
    }
  ]
}